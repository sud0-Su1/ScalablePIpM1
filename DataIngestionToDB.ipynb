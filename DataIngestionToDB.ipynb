

print("hello")
     
hello

!pip install mysql-connector-python
     
Collecting mysql-connector-python
  Downloading mysql_connector_python-9.1.0-cp310-cp310-manylinux_2_28_x86_64.whl.metadata (6.0 kB)
Downloading mysql_connector_python-9.1.0-cp310-cp310-manylinux_2_28_x86_64.whl (34.4 MB)
   ━━━━━━━━━━━━━━━━━━━━━━━━━━━━━━━━━━━━━━━━ 34.4/34.4 MB 48.9 MB/s eta 0:00:00
Installing collected packages: mysql-connector-python
Successfully installed mysql-connector-python-9.1.0

import mysql.connector
from mysql.connector import Error

hostname = "6bnvj.h.filess.io"
database = "olistproject_slopelack"
port = "3307"
username = "olistproject_slopelack"
password = "697e5b0bf570cd87d28f4f9e093edba086909afe"

try:
    connection = mysql.connector.connect(host=hostname, database=database, user=username, password=password, port=port)
    if connection.is_connected():
        db_Info = connection.get_server_info()
        print("Connected to MySQL Server version ", db_Info)
        cursor = connection.cursor()
        cursor.execute("select database();")
        record = cursor.fetchone()
        print("You're connected to database: ", record)

except Error as e:
    print("Error while connecting to MySQL", e)
finally:
    if connection.is_connected():
        cursor.close()
        connection.close()
        print("MySQL connection is closed")


     
Connected to MySQL Server version  8.0.36-28
You're connected to database:  ('olistproject_slopelack',)
MySQL connection is closed

import pandas as pd

order_payments = pd.read_csv("olist_order_payments_dataset.csv")
order_payments.head()
order_payments.shape
     
(103886, 5)


     

import pandas as pd
import mysql.connector
from mysql.connector import Error

# Connection details
hostname = "6bnvj.h.filess.io"
database = "olistproject_slopelack"
port = "3307"
username = "olistproject_slopelack"
password = "697e5b0bf570cd87d28f4f9e093edba086909afe"

# CSV file path
csv_file_path = "olist_order_payments_dataset.csv"

# Table name where the data will be uploaded
table_name = "olist_order_payments"

try:
    # Step 1: Establish a connection to MySQL server
    connection = mysql.connector.connect(
        host=hostname,
        database=database,
        user=username,
        password=password,
        port=port
    )
    if connection.is_connected():
        print("Connected to MySQL Server successfully!")

        # Step 2: Create a cursor to execute SQL queries
        cursor = connection.cursor()

        # Step 3: Drop table if it already exists (for clean insertion)
        cursor.execute(f"DROP TABLE IF EXISTS {table_name};")
        print(f"Table `{table_name}` dropped if it existed.")

        # Step 4: Create a table structure to match CSV file
        create_table_query = f"""
        CREATE TABLE {table_name} (
            order_id VARCHAR(50),
            payment_sequential INT,
            payment_type VARCHAR(20),
            payment_installments INT,
            payment_value FLOAT
        );
        """
        cursor.execute(create_table_query)
        print(f"Table `{table_name}` created successfully!")

        # Step 5: Load the CSV data into pandas DataFrame
        data = pd.read_csv(csv_file_path)
        print("CSV data loaded into pandas DataFrame.")

        # Step 6: Insert data in batches of 500 records
        batch_size = 500  # Define the batch size
        total_records = len(data)  # Get total records in the DataFrame

        print(f"Starting data insertion into `{table_name}` in batches of {batch_size} records.")
        for start in range(0, total_records, batch_size):
            end = start + batch_size
            batch = data.iloc[start:end]  # Get the current batch of records

            # Convert batch to list of tuples for MySQL insertion
            batch_records = [
                tuple(row) for row in batch.itertuples(index=False, name=None)
            ]

            # Prepare the INSERT query
            insert_query = f"""
            INSERT INTO {table_name}
            (order_id, payment_sequential, payment_type, payment_installments, payment_value)
            VALUES (%s, %s, %s, %s, %s);
            """

            # Execute the insertion query for the batch
            cursor.executemany(insert_query, batch_records)
            connection.commit()  # Commit after each batch
            print(f"Inserted records {start + 1} to {min(end, total_records)} successfully.")

        print(f"All {total_records} records inserted successfully into `{table_name}`.")

except Error as e:
    # Step 7: Handle any errors
    print("Error while connecting to MySQL or inserting data:", e)

finally:
    # Step 8: Close the cursor and connection
    if connection.is_connected():
        cursor.close()
        connection.close()
        print("MySQL connection is closed.")
     
Connected to MySQL Server successfully!
Table `olist_order_payments` dropped if it existed.
Table `olist_order_payments` created successfully!
CSV data loaded into pandas DataFrame.
Starting data insertion into `olist_order_payments` in batches of 500 records.
Inserted records 1 to 500 successfully.
Inserted records 501 to 1000 successfully.
Inserted records 1001 to 1500 successfully.
Inserted records 1501 to 2000 successfully.
Inserted records 2001 to 2500 successfully.
Inserted records 2501 to 3000 successfully.
Inserted records 3001 to 3500 successfully.
Inserted records 3501 to 4000 successfully.
Inserted records 4001 to 4500 successfully.
Inserted records 4501 to 5000 successfully.
Inserted records 5001 to 5500 successfully.
Inserted records 5501 to 6000 successfully.
Inserted records 6001 to 6500 successfully.
Inserted records 6501 to 7000 successfully.
Inserted records 7001 to 7500 successfully.
Inserted records 7501 to 8000 successfully.
Inserted records 8001 to 8500 successfully.
Inserted records 8501 to 9000 successfully.
Inserted records 9001 to 9500 successfully.
Inserted records 9501 to 10000 successfully.
Inserted records 10001 to 10500 successfully.
Inserted records 10501 to 11000 successfully.
Inserted records 11001 to 11500 successfully.
Inserted records 11501 to 12000 successfully.
Inserted records 12001 to 12500 successfully.
Inserted records 12501 to 13000 successfully.
Inserted records 13001 to 13500 successfully.
Inserted records 13501 to 14000 successfully.
Inserted records 14001 to 14500 successfully.
Inserted records 14501 to 15000 successfully.
Inserted records 15001 to 15500 successfully.
Inserted records 15501 to 16000 successfully.
Inserted records 16001 to 16500 successfully.
Inserted records 16501 to 17000 successfully.
Inserted records 17001 to 17500 successfully.
Inserted records 17501 to 18000 successfully.
Inserted records 18001 to 18500 successfully.
Inserted records 18501 to 19000 successfully.
Inserted records 19001 to 19500 successfully.
Inserted records 19501 to 20000 successfully.
Inserted records 20001 to 20500 successfully.
Inserted records 20501 to 21000 successfully.
Inserted records 21001 to 21500 successfully.
Inserted records 21501 to 22000 successfully.
Inserted records 22001 to 22500 successfully.
Inserted records 22501 to 23000 successfully.
Inserted records 23001 to 23500 successfully.
Inserted records 23501 to 24000 successfully.
Inserted records 24001 to 24500 successfully.
Inserted records 24501 to 25000 successfully.
Inserted records 25001 to 25500 successfully.
Inserted records 25501 to 26000 successfully.
Inserted records 26001 to 26500 successfully.
Inserted records 26501 to 27000 successfully.
Inserted records 27001 to 27500 successfully.
Inserted records 27501 to 28000 successfully.
Inserted records 28001 to 28500 successfully.
Inserted records 28501 to 29000 successfully.
Inserted records 29001 to 29500 successfully.
Inserted records 29501 to 30000 successfully.
Inserted records 30001 to 30500 successfully.
Inserted records 30501 to 31000 successfully.
Inserted records 31001 to 31500 successfully.
Inserted records 31501 to 32000 successfully.
Inserted records 32001 to 32500 successfully.
Inserted records 32501 to 33000 successfully.
Inserted records 33001 to 33500 successfully.
Inserted records 33501 to 34000 successfully.
Inserted records 34001 to 34500 successfully.
Inserted records 34501 to 35000 successfully.
Inserted records 35001 to 35500 successfully.
Inserted records 35501 to 36000 successfully.
Inserted records 36001 to 36500 successfully.
Inserted records 36501 to 37000 successfully.
Inserted records 37001 to 37500 successfully.
Inserted records 37501 to 38000 successfully.
Inserted records 38001 to 38500 successfully.
Inserted records 38501 to 39000 successfully.
Inserted records 39001 to 39500 successfully.
Inserted records 39501 to 40000 successfully.
Inserted records 40001 to 40500 successfully.
Inserted records 40501 to 41000 successfully.
Inserted records 41001 to 41500 successfully.
Inserted records 41501 to 42000 successfully.
Inserted records 42001 to 42500 successfully.
Inserted records 42501 to 43000 successfully.
Inserted records 43001 to 43500 successfully.
Inserted records 43501 to 44000 successfully.
Inserted records 44001 to 44500 successfully.
Inserted records 44501 to 45000 successfully.
Inserted records 45001 to 45500 successfully.
Inserted records 45501 to 46000 successfully.
Inserted records 46001 to 46500 successfully.
Inserted records 46501 to 47000 successfully.
Inserted records 47001 to 47500 successfully.
Inserted records 47501 to 48000 successfully.
Inserted records 48001 to 48500 successfully.
Inserted records 48501 to 49000 successfully.
Inserted records 49001 to 49500 successfully.
Inserted records 49501 to 50000 successfully.
Inserted records 50001 to 50500 successfully.
Inserted records 50501 to 51000 successfully.
Inserted records 51001 to 51500 successfully.
Inserted records 51501 to 52000 successfully.
Inserted records 52001 to 52500 successfully.
Inserted records 52501 to 53000 successfully.
Inserted records 53001 to 53500 successfully.
Inserted records 53501 to 54000 successfully.
Inserted records 54001 to 54500 successfully.
Inserted records 54501 to 55000 successfully.
Inserted records 55001 to 55500 successfully.
Inserted records 55501 to 56000 successfully.
Inserted records 56001 to 56500 successfully.
Inserted records 56501 to 57000 successfully.
Inserted records 57001 to 57500 successfully.
Inserted records 57501 to 58000 successfully.
Inserted records 58001 to 58500 successfully.
Inserted records 58501 to 59000 successfully.
Inserted records 59001 to 59500 successfully.
Inserted records 59501 to 60000 successfully.
Inserted records 60001 to 60500 successfully.
Inserted records 60501 to 61000 successfully.
Inserted records 61001 to 61500 successfully.
Inserted records 61501 to 62000 successfully.
Inserted records 62001 to 62500 successfully.
Inserted records 62501 to 63000 successfully.
Inserted records 63001 to 63500 successfully.
Inserted records 63501 to 64000 successfully.
Inserted records 64001 to 64500 successfully.
Inserted records 64501 to 65000 successfully.
Inserted records 65001 to 65500 successfully.
Inserted records 65501 to 66000 successfully.
Inserted records 66001 to 66500 successfully.
Inserted records 66501 to 67000 successfully.
Inserted records 67001 to 67500 successfully.
Inserted records 67501 to 68000 successfully.
Inserted records 68001 to 68500 successfully.
Inserted records 68501 to 69000 successfully.
Inserted records 69001 to 69500 successfully.
Inserted records 69501 to 70000 successfully.
Inserted records 70001 to 70500 successfully.
Inserted records 70501 to 71000 successfully.
Inserted records 71001 to 71500 successfully.
Inserted records 71501 to 72000 successfully.
Inserted records 72001 to 72500 successfully.
Inserted records 72501 to 73000 successfully.
Inserted records 73001 to 73500 successfully.
Inserted records 73501 to 74000 successfully.
Inserted records 74001 to 74500 successfully.
Inserted records 74501 to 75000 successfully.
Inserted records 75001 to 75500 successfully.
Inserted records 75501 to 76000 successfully.
Inserted records 76001 to 76500 successfully.
Inserted records 76501 to 77000 successfully.
Inserted records 77001 to 77500 successfully.
Inserted records 77501 to 78000 successfully.
Inserted records 78001 to 78500 successfully.
Inserted records 78501 to 79000 successfully.
Inserted records 79001 to 79500 successfully.
Inserted records 79501 to 80000 successfully.
Inserted records 80001 to 80500 successfully.
Inserted records 80501 to 81000 successfully.
Inserted records 81001 to 81500 successfully.
Inserted records 81501 to 82000 successfully.
Inserted records 82001 to 82500 successfully.
Inserted records 82501 to 83000 successfully.
Inserted records 83001 to 83500 successfully.
Inserted records 83501 to 84000 successfully.
Inserted records 84001 to 84500 successfully.
Inserted records 84501 to 85000 successfully.
Inserted records 85001 to 85500 successfully.
Inserted records 85501 to 86000 successfully.
Inserted records 86001 to 86500 successfully.
Inserted records 86501 to 87000 successfully.
Inserted records 87001 to 87500 successfully.
Inserted records 87501 to 88000 successfully.
Inserted records 88001 to 88500 successfully.
Inserted records 88501 to 89000 successfully.
Inserted records 89001 to 89500 successfully.
Inserted records 89501 to 90000 successfully.
Inserted records 90001 to 90500 successfully.
Inserted records 90501 to 91000 successfully.
Inserted records 91001 to 91500 successfully.
Inserted records 91501 to 92000 successfully.
Inserted records 92001 to 92500 successfully.
Inserted records 92501 to 93000 successfully.
Inserted records 93001 to 93500 successfully.
Inserted records 93501 to 94000 successfully.
Inserted records 94001 to 94500 successfully.
Inserted records 94501 to 95000 successfully.
Inserted records 95001 to 95500 successfully.
Inserted records 95501 to 96000 successfully.
Inserted records 96001 to 96500 successfully.
Inserted records 96501 to 97000 successfully.
Inserted records 97001 to 97500 successfully.
Inserted records 97501 to 98000 successfully.
Inserted records 98001 to 98500 successfully.
Inserted records 98501 to 99000 successfully.
Inserted records 99001 to 99500 successfully.
Inserted records 99501 to 100000 successfully.
Inserted records 100001 to 100500 successfully.
Inserted records 100501 to 101000 successfully.
Inserted records 101001 to 101500 successfully.
Inserted records 101501 to 102000 successfully.
Inserted records 102001 to 102500 successfully.
Inserted records 102501 to 103000 successfully.
Inserted records 103001 to 103500 successfully.
Inserted records 103501 to 103886 successfully.
All 103886 records inserted successfully into `olist_order_payments`.
MySQL connection is closed.

!pip install pymongo
     
Collecting pymongo
  Downloading pymongo-4.10.1-cp310-cp310-manylinux_2_17_x86_64.manylinux2014_x86_64.whl.metadata (22 kB)
Collecting dnspython<3.0.0,>=1.16.0 (from pymongo)
  Downloading dnspython-2.7.0-py3-none-any.whl.metadata (5.8 kB)
Downloading pymongo-4.10.1-cp310-cp310-manylinux_2_17_x86_64.manylinux2014_x86_64.whl (1.4 MB)
   ━━━━━━━━━━━━━━━━━━━━━━━━━━━━━━━━━━━━━━━━ 1.4/1.4 MB 18.1 MB/s eta 0:00:00
Downloading dnspython-2.7.0-py3-none-any.whl (313 kB)
   ━━━━━━━━━━━━━━━━━━━━━━━━━━━━━━━━━━━━━━━━ 313.6/313.6 kB 20.2 MB/s eta 0:00:00
Installing collected packages: dnspython, pymongo
Successfully installed dnspython-2.7.0 pymongo-4.10.1

# importing module
from pymongo import MongoClient

hostname = "p8io3.h.filess.io"
database = "olistDataNoSQL_becomingit"
port = "27018"
username = "olistDataNoSQL_becomingit"
password = "dcea9f94c68907e3b1f73fcbba26645ef83470e3"

uri = "mongodb://" + username + ":" + password + "@" + hostname + ":" + port + "/" + database

# Connect with the portnumber and host
client = MongoClient(uri)

# Access database
mydatabase = client[database]

     

# prompt: read the product_category csv and create a collection and upload it to above mongoDB

import pandas as pd
from pymongo import MongoClient

# Load the product_category CSV file into a pandas DataFrame
try:
  product_category_df = pd.read_csv("product_category_name_translation.csv")
except FileNotFoundError:
  print("Error: 'product_category_name_translation.csv' not found.")
  exit() # Exit the script if the file is not found


# MongoDB connection details (assuming these are already defined in your script)
hostname = "p8io3.h.filess.io"
database = "olistDataNoSQL_becomingit"
port = "27018"
username = "olistDataNoSQL_becomingit"
password = "dcea9f94c68907e3b1f73fcbba26645ef83470e3"

uri = "mongodb://" + username + ":" + password + "@" + hostname + ":" + port + "/" + database

try:
    # Establish a connection to MongoDB
    client = MongoClient(uri)
    db = client[database]

    # Select the collection (or create if it doesn't exist)
    collection = db["product_categories"]  # Choose a suitable name for your collection

    # Convert the DataFrame to a list of dictionaries for insertion into MongoDB
    data_to_insert = product_category_df.to_dict(orient="records")

    # Insert the data into the collection
    collection.insert_many(data_to_insert)

    print("Data uploaded to MongoDB successfully!")

except Exception as e:
    print(f"An error occurred: {e}")

finally:
    # Close the MongoDB connection
    if client:
        client.close()
     
Data uploaded to MongoDB successfully!
